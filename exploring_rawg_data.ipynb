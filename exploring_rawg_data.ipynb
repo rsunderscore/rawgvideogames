{
 "cells": [
  {
   "cell_type": "markdown",
   "metadata": {},
   "source": [
    "# Exploring data from the rawg data API\n",
    "- http://rawg.io/apidocs\n",
    "- https://api.rawg.io/docs/\n",
    "\n",
    "One hiccup is how to copy this to github without exposing the API key"
   ]
  },
  {
   "cell_type": "code",
   "execution_count": 2,
   "metadata": {},
   "outputs": [],
   "source": [
    "import getdata as gd #moving util functions to this module as they are defined"
   ]
  },
  {
   "cell_type": "code",
   "execution_count": 3,
   "metadata": {},
   "outputs": [],
   "source": [
    "import requests\n",
    "import json\n",
    "import pandas as pd\n",
    "import os\n",
    "import matplotlib.pyplot as plt"
   ]
  },
  {
   "cell_type": "code",
   "execution_count": 3,
   "metadata": {},
   "outputs": [
    {
     "data": {
      "text/plain": [
       "['creator-roles',\n",
       " 'creators',\n",
       " 'developers',\n",
       " 'games',\n",
       " 'genres',\n",
       " 'platforms',\n",
       " 'publishers',\n",
       " 'stores',\n",
       " 'tags']"
      ]
     },
     "execution_count": 3,
     "metadata": {},
     "output_type": "execute_result"
    }
   ],
   "source": [
    "apinames = \"\"\"creator-roles\n",
    "creators\n",
    "developers\n",
    "games\n",
    "genres\n",
    "platforms\n",
    "publishers\n",
    "stores\n",
    "tags\"\"\".splitlines()\n",
    "apinames"
   ]
  },
  {
   "cell_type": "code",
   "execution_count": 12,
   "metadata": {},
   "outputs": [
    {
     "name": "stdout",
     "output_type": "stream",
     "text": [
      "count of results: 51\n"
     ]
    }
   ],
   "source": [
    "(prevlink, nextlink, count, plat_df) = gd.getfromrawg('platforms','')\n"
   ]
  },
  {
   "cell_type": "code",
   "execution_count": 13,
   "metadata": {},
   "outputs": [
    {
     "name": "stdout",
     "output_type": "stream",
     "text": [
      "<class 'pandas.core.frame.DataFrame'>\n",
      "RangeIndex: 50 entries, 0 to 49\n",
      "Data columns (total 9 columns):\n",
      " #   Column            Non-Null Count  Dtype  \n",
      "---  ------            --------------  -----  \n",
      " 0   id                50 non-null     int64  \n",
      " 1   name              50 non-null     object \n",
      " 2   slug              50 non-null     object \n",
      " 3   games_count       50 non-null     int64  \n",
      " 4   image_background  50 non-null     object \n",
      " 5   image             0 non-null      object \n",
      " 6   year_start        2 non-null      float64\n",
      " 7   year_end          0 non-null      object \n",
      " 8   games             50 non-null     object \n",
      "dtypes: float64(1), int64(2), object(6)\n",
      "memory usage: 3.6+ KB\n"
     ]
    }
   ],
   "source": [
    "plat_df.info()"
   ]
  },
  {
   "cell_type": "code",
   "execution_count": 14,
   "metadata": {},
   "outputs": [
    {
     "name": "stdout",
     "output_type": "stream",
     "text": [
      "count of results: 51\n",
      "count of results: 51\n",
      "done getting all results\n",
      "num\n",
      "<class 'pandas.core.frame.DataFrame'>\n",
      "Int64Index: 51 entries, 0 to 0\n",
      "Data columns (total 9 columns):\n",
      " #   Column            Non-Null Count  Dtype \n",
      "---  ------            --------------  ----- \n",
      " 0   id                51 non-null     int64 \n",
      " 1   name              51 non-null     object\n",
      " 2   slug              51 non-null     object\n",
      " 3   games_count       51 non-null     int64 \n",
      " 4   image_background  51 non-null     object\n",
      " 5   image             0 non-null      object\n",
      " 6   year_start        2 non-null      object\n",
      " 7   year_end          0 non-null      object\n",
      " 8   games             51 non-null     object\n",
      "dtypes: int64(2), object(7)\n",
      "memory usage: 4.0+ KB\n"
     ]
    }
   ],
   "source": [
    "plat_df = gd.getallplatforms()"
   ]
  },
  {
   "cell_type": "code",
   "execution_count": 16,
   "metadata": {},
   "outputs": [],
   "source": [
    "(pgs, cnt, df) = gd.getfromrawg2('platforms', '')"
   ]
  },
  {
   "cell_type": "code",
   "execution_count": 17,
   "metadata": {},
   "outputs": [
    {
     "data": {
      "text/plain": [
       "(2, 51)"
      ]
     },
     "execution_count": 17,
     "metadata": {},
     "output_type": "execute_result"
    }
   ],
   "source": [
    "(pgs,cnt)"
   ]
  },
  {
   "cell_type": "code",
   "execution_count": 18,
   "metadata": {},
   "outputs": [
    {
     "name": "stdout",
     "output_type": "stream",
     "text": [
      "<class 'pandas.core.frame.DataFrame'>\n",
      "Int64Index: 51 entries, 0 to 0\n",
      "Data columns (total 9 columns):\n",
      " #   Column            Non-Null Count  Dtype \n",
      "---  ------            --------------  ----- \n",
      " 0   id                51 non-null     int64 \n",
      " 1   name              51 non-null     object\n",
      " 2   slug              51 non-null     object\n",
      " 3   games_count       51 non-null     int64 \n",
      " 4   image_background  51 non-null     object\n",
      " 5   image             0 non-null      object\n",
      " 6   year_start        2 non-null      object\n",
      " 7   year_end          0 non-null      object\n",
      " 8   games             51 non-null     object\n",
      "dtypes: int64(2), object(7)\n",
      "memory usage: 4.0+ KB\n"
     ]
    }
   ],
   "source": [
    "df.info()"
   ]
  },
  {
   "cell_type": "code",
   "execution_count": 21,
   "metadata": {},
   "outputs": [],
   "source": [
    "?gd.getfromrawg2"
   ]
  },
  {
   "cell_type": "code",
   "execution_count": 46,
   "metadata": {},
   "outputs": [
    {
     "data": {
      "text/plain": [
       "(2, 34, 34)"
      ]
     },
     "execution_count": 46,
     "metadata": {},
     "output_type": "execute_result"
    }
   ],
   "source": [
    "(pgs, cnt, df) = gd.getfromrawg2('games','search=oni')\n",
    "(pgs, cnt, len(df))"
   ]
  },
  {
   "cell_type": "code",
   "execution_count": 47,
   "metadata": {},
   "outputs": [
    {
     "name": "stdout",
     "output_type": "stream",
     "text": [
      "<class 'pandas.core.frame.DataFrame'>\n",
      "Int64Index: 34 entries, 0 to 13\n",
      "Data columns (total 31 columns):\n",
      " #   Column              Non-Null Count  Dtype  \n",
      "---  ------              --------------  -----  \n",
      " 0   slug                34 non-null     object \n",
      " 1   name                34 non-null     object \n",
      " 2   playtime            34 non-null     int64  \n",
      " 3   platforms           34 non-null     object \n",
      " 4   stores              31 non-null     object \n",
      " 5   released            32 non-null     object \n",
      " 6   tba                 34 non-null     bool   \n",
      " 7   background_image    33 non-null     object \n",
      " 8   rating              34 non-null     float64\n",
      " 9   rating_top          34 non-null     int64  \n",
      " 10  ratings             34 non-null     object \n",
      " 11  ratings_count       34 non-null     int64  \n",
      " 12  reviews_text_count  34 non-null     int64  \n",
      " 13  added               34 non-null     int64  \n",
      " 14  added_by_status     7 non-null      object \n",
      " 15  metacritic          1 non-null      object \n",
      " 16  suggestions_count   34 non-null     int64  \n",
      " 17  updated             34 non-null     object \n",
      " 18  id                  34 non-null     int64  \n",
      " 19  score               34 non-null     object \n",
      " 20  clip                0 non-null      object \n",
      " 21  tags                34 non-null     object \n",
      " 22  esrb_rating         2 non-null      object \n",
      " 23  user_game           0 non-null      object \n",
      " 24  reviews_count       34 non-null     int64  \n",
      " 25  saturated_color     34 non-null     object \n",
      " 26  dominant_color      34 non-null     object \n",
      " 27  short_screenshots   34 non-null     object \n",
      " 28  parent_platforms    34 non-null     object \n",
      " 29  genres              34 non-null     object \n",
      " 30  community_rating    33 non-null     float64\n",
      "dtypes: bool(1), float64(2), int64(8), object(20)\n",
      "memory usage: 8.3+ KB\n"
     ]
    }
   ],
   "source": [
    "df.info()"
   ]
  },
  {
   "cell_type": "code",
   "execution_count": 51,
   "metadata": {},
   "outputs": [
    {
     "data": {
      "text/plain": [
       "slug                                                                oni\n",
       "name                                                                Oni\n",
       "playtime                                                              1\n",
       "platforms             [{'platform': {'id': 4, 'name': 'PC', 'slug': ...\n",
       "stores                                                             None\n",
       "released                                                     2001-01-29\n",
       "tba                                                               False\n",
       "background_image      https://media.rawg.io/media/games/60e/60ec0cee...\n",
       "rating                                                             4.05\n",
       "rating_top                                                            4\n",
       "ratings               [{'id': 4, 'title': 'recommended', 'count': 37...\n",
       "ratings_count                                                        64\n",
       "reviews_text_count                                                    0\n",
       "added                                                               128\n",
       "added_by_status       {'yet': 16, 'owned': 20, 'beaten': 56, 'toplay...\n",
       "metacritic                                                           73\n",
       "suggestions_count                                                   390\n",
       "updated                                             2021-07-06T15:20:11\n",
       "id                                                                31859\n",
       "score                                                            65.158\n",
       "clip                                                               None\n",
       "tags                  [{'id': 13, 'name': 'Atmospheric', 'slug': 'at...\n",
       "esrb_rating           {'id': 3, 'name': 'Teen', 'slug': 'teen', 'nam...\n",
       "user_game                                                          None\n",
       "reviews_count                                                        64\n",
       "saturated_color                                                  0f0f0f\n",
       "dominant_color                                                   0f0f0f\n",
       "short_screenshots     [{'id': -1, 'image': 'https://media.rawg.io/me...\n",
       "parent_platforms      [{'platform': {'id': 1, 'name': 'PC', 'slug': ...\n",
       "genres                [{'id': 2, 'name': 'Shooter', 'slug': 'shooter...\n",
       "community_rating                                                    NaN\n",
       "Name: 0, dtype: object"
      ]
     },
     "execution_count": 51,
     "metadata": {},
     "output_type": "execute_result"
    }
   ],
   "source": [
    "df.iloc[0]"
   ]
  },
  {
   "cell_type": "code",
   "execution_count": 54,
   "metadata": {},
   "outputs": [
    {
     "data": {
      "text/plain": [
       "[{'id': 13,\n",
       "  'name': 'Atmospheric',\n",
       "  'slug': 'atmospheric',\n",
       "  'language': 'eng',\n",
       "  'games_count': 15805,\n",
       "  'image_background': 'https://media.rawg.io/media/games/4be/4be6a6ad0364751a96229c56bf69be59.jpg'},\n",
       " {'id': 32,\n",
       "  'name': 'Sci-fi',\n",
       "  'slug': 'sci-fi',\n",
       "  'language': 'eng',\n",
       "  'games_count': 11569,\n",
       "  'image_background': 'https://media.rawg.io/media/games/328/3283617cb7d75d67257fc58339188742.jpg'},\n",
       " {'id': 226,\n",
       "  'name': 'Cyberpunk',\n",
       "  'slug': 'cyberpunk',\n",
       "  'language': 'eng',\n",
       "  'games_count': 2756,\n",
       "  'image_background': 'https://media.rawg.io/media/screenshots/ad4/ad445a12ee46543d4d117f3893041ebf.jpg'},\n",
       " {'id': 478,\n",
       "  'name': '3rd-Person Perspective',\n",
       "  'slug': '3rd-person-perspective',\n",
       "  'language': 'eng',\n",
       "  'games_count': 82,\n",
       "  'image_background': 'https://media.rawg.io/media/games/2ad/2ad87a4a69b1104f02435c14c5196095.jpg'}]"
      ]
     },
     "execution_count": 54,
     "metadata": {},
     "output_type": "execute_result"
    }
   ],
   "source": [
    "df['tags'].iloc[0]"
   ]
  },
  {
   "cell_type": "code",
   "execution_count": 49,
   "metadata": {},
   "outputs": [
    {
     "data": {
      "text/plain": [
       "0     [PC, macOS, PlayStation 2]\n",
       "1                           [PC]\n",
       "2                           [PC]\n",
       "3                    [PC, Linux]\n",
       "4                           [PC]\n",
       "5                    [PC, Linux]\n",
       "6                           [PC]\n",
       "7                          [iOS]\n",
       "8                          [Web]\n",
       "9                           [PC]\n",
       "10                   [PC, macOS]\n",
       "11                         [Web]\n",
       "12                         [Web]\n",
       "13                          [PC]\n",
       "14                          [PC]\n",
       "15                   [PC, macOS]\n",
       "16                     [PC, Web]\n",
       "17                          [PC]\n",
       "18                          [PC]\n",
       "19                [iOS, Android]\n",
       "0                    [PC, macOS]\n",
       "1                     [GameCube]\n",
       "2                           [PC]\n",
       "3           [PC, Android, macOS]\n",
       "4                           [PC]\n",
       "5                          [Web]\n",
       "6                           [PC]\n",
       "7                          [Web]\n",
       "8                           [PC]\n",
       "9             [PC, macOS, Linux]\n",
       "10                 [PC, Android]\n",
       "11       [PC, macOS, Linux, Web]\n",
       "12                         [Web]\n",
       "13                          [PC]\n",
       "Name: platforms, dtype: object"
      ]
     },
     "execution_count": 49,
     "metadata": {},
     "output_type": "execute_result"
    }
   ],
   "source": [
    "df['platforms'].apply(lambda x: x if x is None else [p['platform']['name'] for p in x])"
   ]
  },
  {
   "cell_type": "code",
   "execution_count": 4,
   "metadata": {},
   "outputs": [
    {
     "ename": "AssertionError",
     "evalue": "",
     "output_type": "error",
     "traceback": [
      "\u001b[1;31m---------------------------------------------------------------------------\u001b[0m",
      "\u001b[1;31mAssertionError\u001b[0m                            Traceback (most recent call last)",
      "\u001b[1;32m<ipython-input-4-997865880532>\u001b[0m in \u001b[0;36m<module>\u001b[1;34m\u001b[0m\n\u001b[0;32m      1\u001b[0m \u001b[1;31m#https://api.rawg.io/api/games/{id}#need to be able to pass additional info to the url?\u001b[0m\u001b[1;33m\u001b[0m\u001b[1;33m\u001b[0m\u001b[1;33m\u001b[0m\u001b[0m\n\u001b[1;32m----> 2\u001b[1;33m \u001b[0mgd\u001b[0m\u001b[1;33m.\u001b[0m\u001b[0mgetfromrawg2\u001b[0m\u001b[1;33m(\u001b[0m\u001b[1;34m'games/31859/'\u001b[0m\u001b[1;33m,\u001b[0m\u001b[1;34m''\u001b[0m\u001b[1;33m)\u001b[0m\u001b[1;33m\u001b[0m\u001b[1;33m\u001b[0m\u001b[0m\n\u001b[0m",
      "\u001b[1;32mD:\\Users\\Rob\\Documents\\python\\git\\rawgvideogames\\getdata.py\u001b[0m in \u001b[0;36mgetfromrawg2\u001b[1;34m(apiname, params, pgs)\u001b[0m\n\u001b[0;32m    133\u001b[0m \u001b[1;32mdef\u001b[0m \u001b[0mgetfromrawg2\u001b[0m\u001b[1;33m(\u001b[0m\u001b[0mapiname\u001b[0m\u001b[1;33m,\u001b[0m \u001b[0mparams\u001b[0m\u001b[1;33m,\u001b[0m \u001b[0mpgs\u001b[0m\u001b[1;33m=\u001b[0m\u001b[1;36m10\u001b[0m\u001b[1;33m)\u001b[0m\u001b[1;33m:\u001b[0m\u001b[1;33m\u001b[0m\u001b[1;33m\u001b[0m\u001b[0m\n\u001b[0;32m    134\u001b[0m     \u001b[0murl\u001b[0m \u001b[1;33m=\u001b[0m \u001b[0mBASEURL\u001b[0m\u001b[1;33m+\u001b[0m\u001b[0mapiname\u001b[0m\u001b[1;33m+\u001b[0m\u001b[1;34m'?key='\u001b[0m\u001b[1;33m+\u001b[0m\u001b[0mAPIKEY\u001b[0m\u001b[1;33m\u001b[0m\u001b[1;33m\u001b[0m\u001b[0m\n\u001b[1;32m--> 135\u001b[1;33m     \u001b[1;32mreturn\u001b[0m \u001b[0mgetrawgurlpgs\u001b[0m\u001b[1;33m(\u001b[0m\u001b[0murl\u001b[0m\u001b[1;33m,\u001b[0m \u001b[0mparams\u001b[0m\u001b[1;33m,\u001b[0m\u001b[0mpgs\u001b[0m\u001b[1;33m=\u001b[0m\u001b[0mpgs\u001b[0m\u001b[1;33m)\u001b[0m\u001b[1;33m\u001b[0m\u001b[1;33m\u001b[0m\u001b[0m\n\u001b[0m\u001b[0;32m    136\u001b[0m \u001b[1;33m\u001b[0m\u001b[0m\n\u001b[0;32m    137\u001b[0m \u001b[1;32mdef\u001b[0m \u001b[0mgetrawgurl\u001b[0m\u001b[1;33m(\u001b[0m\u001b[0murl\u001b[0m\u001b[1;33m,\u001b[0m \u001b[0mparams\u001b[0m\u001b[1;33m=\u001b[0m\u001b[1;32mNone\u001b[0m\u001b[1;33m)\u001b[0m\u001b[1;33m:\u001b[0m\u001b[1;33m\u001b[0m\u001b[1;33m\u001b[0m\u001b[0m\n",
      "\u001b[1;32mD:\\Users\\Rob\\Documents\\python\\git\\rawgvideogames\\getdata.py\u001b[0m in \u001b[0;36mgetrawgurlpgs\u001b[1;34m(url, params, pgs)\u001b[0m\n\u001b[0;32m    150\u001b[0m     \u001b[0mpgct\u001b[0m\u001b[1;33m=\u001b[0m\u001b[1;36m0\u001b[0m\u001b[1;33m\u001b[0m\u001b[1;33m\u001b[0m\u001b[0m\n\u001b[0;32m    151\u001b[0m     \u001b[1;32mwhile\u001b[0m \u001b[0mnxt\u001b[0m \u001b[1;32mis\u001b[0m \u001b[1;32mnot\u001b[0m \u001b[1;32mNone\u001b[0m\u001b[1;33m:\u001b[0m\u001b[1;33m\u001b[0m\u001b[1;33m\u001b[0m\u001b[0m\n\u001b[1;32m--> 152\u001b[1;33m         \u001b[1;33m(\u001b[0m\u001b[0mprev\u001b[0m\u001b[1;33m,\u001b[0m \u001b[0mnxt\u001b[0m\u001b[1;33m,\u001b[0m \u001b[0mcnt\u001b[0m\u001b[1;33m,\u001b[0m \u001b[0mdf\u001b[0m\u001b[1;33m)\u001b[0m \u001b[1;33m=\u001b[0m \u001b[0mgetrawgurl\u001b[0m\u001b[1;33m(\u001b[0m\u001b[0mnxt\u001b[0m\u001b[1;33m,\u001b[0m \u001b[0mparams\u001b[0m\u001b[1;33m)\u001b[0m\u001b[1;33m\u001b[0m\u001b[1;33m\u001b[0m\u001b[0m\n\u001b[0m\u001b[0;32m    153\u001b[0m         \u001b[0mpgct\u001b[0m\u001b[1;33m+=\u001b[0m\u001b[1;36m1\u001b[0m\u001b[1;33m\u001b[0m\u001b[1;33m\u001b[0m\u001b[0m\n\u001b[0;32m    154\u001b[0m         \u001b[0malldf\u001b[0m \u001b[1;33m=\u001b[0m \u001b[0malldf\u001b[0m\u001b[1;33m.\u001b[0m\u001b[0mappend\u001b[0m\u001b[1;33m(\u001b[0m\u001b[0mdf\u001b[0m\u001b[1;33m)\u001b[0m\u001b[1;33m\u001b[0m\u001b[1;33m\u001b[0m\u001b[0m\n",
      "\u001b[1;32mD:\\Users\\Rob\\Documents\\python\\git\\rawgvideogames\\getdata.py\u001b[0m in \u001b[0;36mgetrawgurl\u001b[1;34m(url, params)\u001b[0m\n\u001b[0;32m    139\u001b[0m     \u001b[0mres\u001b[0m \u001b[1;33m=\u001b[0m \u001b[0mrequests\u001b[0m\u001b[1;33m.\u001b[0m\u001b[0mget\u001b[0m\u001b[1;33m(\u001b[0m\u001b[1;34m\"&\"\u001b[0m\u001b[1;33m.\u001b[0m\u001b[0mjoin\u001b[0m\u001b[1;33m(\u001b[0m\u001b[1;33m[\u001b[0m\u001b[0murl\u001b[0m\u001b[1;33m,\u001b[0m \u001b[0mparams\u001b[0m\u001b[1;33m]\u001b[0m\u001b[1;33m)\u001b[0m\u001b[1;33m.\u001b[0m\u001b[0mrstrip\u001b[0m\u001b[1;33m(\u001b[0m\u001b[1;34m'&'\u001b[0m\u001b[1;33m)\u001b[0m\u001b[1;33m)\u001b[0m\u001b[1;33m\u001b[0m\u001b[1;33m\u001b[0m\u001b[0m\n\u001b[0;32m    140\u001b[0m     \u001b[1;32mif\u001b[0m \u001b[0mres\u001b[0m\u001b[1;33m.\u001b[0m\u001b[0mstatus_code\u001b[0m \u001b[1;33m!=\u001b[0m \u001b[1;36m200\u001b[0m\u001b[1;33m:\u001b[0m \u001b[1;31m#need retry logic\u001b[0m\u001b[1;33m\u001b[0m\u001b[1;33m\u001b[0m\u001b[0m\n\u001b[1;32m--> 141\u001b[1;33m         \u001b[1;32massert\u001b[0m \u001b[1;32mFalse\u001b[0m\u001b[1;33m\u001b[0m\u001b[1;33m\u001b[0m\u001b[0m\n\u001b[0m\u001b[0;32m    142\u001b[0m     \u001b[0mrc\u001b[0m \u001b[1;33m=\u001b[0m \u001b[0mres\u001b[0m\u001b[1;33m.\u001b[0m\u001b[0mcontent\u001b[0m \u001b[1;31m# this should be a json resopnse\u001b[0m\u001b[1;33m\u001b[0m\u001b[1;33m\u001b[0m\u001b[0m\n\u001b[0;32m    143\u001b[0m     \u001b[0md\u001b[0m \u001b[1;33m=\u001b[0m \u001b[0mjson\u001b[0m\u001b[1;33m.\u001b[0m\u001b[0mloads\u001b[0m\u001b[1;33m(\u001b[0m\u001b[0mrc\u001b[0m\u001b[1;33m)\u001b[0m\u001b[1;33m\u001b[0m\u001b[1;33m\u001b[0m\u001b[0m\n",
      "\u001b[1;31mAssertionError\u001b[0m: "
     ]
    }
   ],
   "source": [
    "#https://api.rawg.io/api/games/{id}#need to be able to pass additional info to the url?\n",
    "gd.getfromrawg2('games/31859/','')"
   ]
  },
  {
   "cell_type": "code",
   "execution_count": null,
   "metadata": {},
   "outputs": [],
   "source": []
  }
 ],
 "metadata": {
  "kernelspec": {
   "display_name": "Python 3",
   "language": "python",
   "name": "python3"
  },
  "language_info": {
   "codemirror_mode": {
    "name": "ipython",
    "version": 3
   },
   "file_extension": ".py",
   "mimetype": "text/x-python",
   "name": "python",
   "nbconvert_exporter": "python",
   "pygments_lexer": "ipython3",
   "version": "3.8.5"
  }
 },
 "nbformat": 4,
 "nbformat_minor": 4
}
